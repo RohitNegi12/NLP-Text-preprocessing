{
  "nbformat": 4,
  "nbformat_minor": 0,
  "metadata": {
    "colab": {
      "provenance": [],
      "authorship_tag": "ABX9TyO0BkIsSTnlI0BgLPSFfJrJ",
      "include_colab_link": true
    },
    "kernelspec": {
      "name": "python3",
      "display_name": "Python 3"
    },
    "language_info": {
      "name": "python"
    }
  },
  "cells": [
    {
      "cell_type": "markdown",
      "metadata": {
        "id": "view-in-github",
        "colab_type": "text"
      },
      "source": [
        "<a href=\"https://colab.research.google.com/github/RohitNegi12/NLP-Text-preprocessing/blob/main/Preprocessing.ipynb\" target=\"_parent\"><img src=\"https://colab.research.google.com/assets/colab-badge.svg\" alt=\"Open In Colab\"/></a>"
      ]
    },
    {
      "cell_type": "code",
      "source": [
        "import pandas as pd\n",
        "import nltk"
      ],
      "metadata": {
        "id": "TDg4N257Eysj"
      },
      "execution_count": 66,
      "outputs": []
    },
    {
      "cell_type": "code",
      "source": [
        "movies=pd.read_csv('/content/movies')"
      ],
      "metadata": {
        "id": "UculxsBnE81W"
      },
      "execution_count": 67,
      "outputs": []
    },
    {
      "cell_type": "code",
      "source": [
        "movies.head()"
      ],
      "metadata": {
        "id": "Urf320jsFCsF",
        "colab": {
          "base_uri": "https://localhost:8080/",
          "height": 414
        },
        "outputId": "c7e04164-2657-469d-a9f7-881299d11a33"
      },
      "execution_count": 68,
      "outputs": [
        {
          "output_type": "execute_result",
          "data": {
            "text/plain": [
              "   Unnamed: 0  movie_id                                         title  \\\n",
              "0           0     19995                                    ['Avatar']   \n",
              "1           1       285  [\"Pirates of the Caribbean: At World's End\"]   \n",
              "2           2    206647                                   ['Spectre']   \n",
              "3           3     49026                     ['The Dark Knight Rises']   \n",
              "4           4     49529                               ['John Carter']   \n",
              "\n",
              "                                                cast                  crew  \\\n",
              "0  ['SamWorthington', 'ZoeSaldana', 'SigourneyWea...      ['JamesCameron']   \n",
              "1   ['JohnnyDepp', 'OrlandoBloom', 'KeiraKnightley']     ['GoreVerbinski']   \n",
              "2    ['DanielCraig', 'ChristophWaltz', 'LéaSeydoux']         ['SamMendes']   \n",
              "3    ['ChristianBale', 'MichaelCaine', 'GaryOldman']  ['ChristopherNolan']   \n",
              "4  ['TaylorKitsch', 'LynnCollins', 'SamanthaMorton']     ['AndrewStanton']   \n",
              "\n",
              "                                              genres  \\\n",
              "0  ['Action', 'Adventure', 'Fantasy', 'ScienceFic...   \n",
              "1                 ['Adventure', 'Fantasy', 'Action']   \n",
              "2                   ['Action', 'Adventure', 'Crime']   \n",
              "3           ['Action', 'Crime', 'Drama', 'Thriller']   \n",
              "4          ['Action', 'Adventure', 'ScienceFiction']   \n",
              "\n",
              "                                            keywords  \\\n",
              "0  ['cultureclash', 'future', 'spacewar', 'spacec...   \n",
              "1  ['ocean', 'drugabuse', 'exoticisland', 'eastin...   \n",
              "2  ['spy', 'basedonnovel', 'secretagent', 'sequel...   \n",
              "3  ['dccomics', 'crimefighter', 'terrorist', 'sec...   \n",
              "4  ['basedonnovel', 'mars', 'medallion', 'spacetr...   \n",
              "\n",
              "                                                tags  \n",
              "0  ['SamWorthington', 'ZoeSaldana', 'SigourneyWea...  \n",
              "1  ['JohnnyDepp', 'OrlandoBloom', 'KeiraKnightley...  \n",
              "2  ['DanielCraig', 'ChristophWaltz', 'LéaSeydoux'...  \n",
              "3  ['ChristianBale', 'MichaelCaine', 'GaryOldman'...  \n",
              "4  ['TaylorKitsch', 'LynnCollins', 'SamanthaMorto...  "
            ],
            "text/html": [
              "\n",
              "  <div id=\"df-f788e09c-72fb-4796-84c6-5cadedbd835f\" class=\"colab-df-container\">\n",
              "    <div>\n",
              "<style scoped>\n",
              "    .dataframe tbody tr th:only-of-type {\n",
              "        vertical-align: middle;\n",
              "    }\n",
              "\n",
              "    .dataframe tbody tr th {\n",
              "        vertical-align: top;\n",
              "    }\n",
              "\n",
              "    .dataframe thead th {\n",
              "        text-align: right;\n",
              "    }\n",
              "</style>\n",
              "<table border=\"1\" class=\"dataframe\">\n",
              "  <thead>\n",
              "    <tr style=\"text-align: right;\">\n",
              "      <th></th>\n",
              "      <th>Unnamed: 0</th>\n",
              "      <th>movie_id</th>\n",
              "      <th>title</th>\n",
              "      <th>cast</th>\n",
              "      <th>crew</th>\n",
              "      <th>genres</th>\n",
              "      <th>keywords</th>\n",
              "      <th>tags</th>\n",
              "    </tr>\n",
              "  </thead>\n",
              "  <tbody>\n",
              "    <tr>\n",
              "      <th>0</th>\n",
              "      <td>0</td>\n",
              "      <td>19995</td>\n",
              "      <td>['Avatar']</td>\n",
              "      <td>['SamWorthington', 'ZoeSaldana', 'SigourneyWea...</td>\n",
              "      <td>['JamesCameron']</td>\n",
              "      <td>['Action', 'Adventure', 'Fantasy', 'ScienceFic...</td>\n",
              "      <td>['cultureclash', 'future', 'spacewar', 'spacec...</td>\n",
              "      <td>['SamWorthington', 'ZoeSaldana', 'SigourneyWea...</td>\n",
              "    </tr>\n",
              "    <tr>\n",
              "      <th>1</th>\n",
              "      <td>1</td>\n",
              "      <td>285</td>\n",
              "      <td>[\"Pirates of the Caribbean: At World's End\"]</td>\n",
              "      <td>['JohnnyDepp', 'OrlandoBloom', 'KeiraKnightley']</td>\n",
              "      <td>['GoreVerbinski']</td>\n",
              "      <td>['Adventure', 'Fantasy', 'Action']</td>\n",
              "      <td>['ocean', 'drugabuse', 'exoticisland', 'eastin...</td>\n",
              "      <td>['JohnnyDepp', 'OrlandoBloom', 'KeiraKnightley...</td>\n",
              "    </tr>\n",
              "    <tr>\n",
              "      <th>2</th>\n",
              "      <td>2</td>\n",
              "      <td>206647</td>\n",
              "      <td>['Spectre']</td>\n",
              "      <td>['DanielCraig', 'ChristophWaltz', 'LéaSeydoux']</td>\n",
              "      <td>['SamMendes']</td>\n",
              "      <td>['Action', 'Adventure', 'Crime']</td>\n",
              "      <td>['spy', 'basedonnovel', 'secretagent', 'sequel...</td>\n",
              "      <td>['DanielCraig', 'ChristophWaltz', 'LéaSeydoux'...</td>\n",
              "    </tr>\n",
              "    <tr>\n",
              "      <th>3</th>\n",
              "      <td>3</td>\n",
              "      <td>49026</td>\n",
              "      <td>['The Dark Knight Rises']</td>\n",
              "      <td>['ChristianBale', 'MichaelCaine', 'GaryOldman']</td>\n",
              "      <td>['ChristopherNolan']</td>\n",
              "      <td>['Action', 'Crime', 'Drama', 'Thriller']</td>\n",
              "      <td>['dccomics', 'crimefighter', 'terrorist', 'sec...</td>\n",
              "      <td>['ChristianBale', 'MichaelCaine', 'GaryOldman'...</td>\n",
              "    </tr>\n",
              "    <tr>\n",
              "      <th>4</th>\n",
              "      <td>4</td>\n",
              "      <td>49529</td>\n",
              "      <td>['John Carter']</td>\n",
              "      <td>['TaylorKitsch', 'LynnCollins', 'SamanthaMorton']</td>\n",
              "      <td>['AndrewStanton']</td>\n",
              "      <td>['Action', 'Adventure', 'ScienceFiction']</td>\n",
              "      <td>['basedonnovel', 'mars', 'medallion', 'spacetr...</td>\n",
              "      <td>['TaylorKitsch', 'LynnCollins', 'SamanthaMorto...</td>\n",
              "    </tr>\n",
              "  </tbody>\n",
              "</table>\n",
              "</div>\n",
              "    <div class=\"colab-df-buttons\">\n",
              "\n",
              "  <div class=\"colab-df-container\">\n",
              "    <button class=\"colab-df-convert\" onclick=\"convertToInteractive('df-f788e09c-72fb-4796-84c6-5cadedbd835f')\"\n",
              "            title=\"Convert this dataframe to an interactive table.\"\n",
              "            style=\"display:none;\">\n",
              "\n",
              "  <svg xmlns=\"http://www.w3.org/2000/svg\" height=\"24px\" viewBox=\"0 -960 960 960\">\n",
              "    <path d=\"M120-120v-720h720v720H120Zm60-500h600v-160H180v160Zm220 220h160v-160H400v160Zm0 220h160v-160H400v160ZM180-400h160v-160H180v160Zm440 0h160v-160H620v160ZM180-180h160v-160H180v160Zm440 0h160v-160H620v160Z\"/>\n",
              "  </svg>\n",
              "    </button>\n",
              "\n",
              "  <style>\n",
              "    .colab-df-container {\n",
              "      display:flex;\n",
              "      gap: 12px;\n",
              "    }\n",
              "\n",
              "    .colab-df-convert {\n",
              "      background-color: #E8F0FE;\n",
              "      border: none;\n",
              "      border-radius: 50%;\n",
              "      cursor: pointer;\n",
              "      display: none;\n",
              "      fill: #1967D2;\n",
              "      height: 32px;\n",
              "      padding: 0 0 0 0;\n",
              "      width: 32px;\n",
              "    }\n",
              "\n",
              "    .colab-df-convert:hover {\n",
              "      background-color: #E2EBFA;\n",
              "      box-shadow: 0px 1px 2px rgba(60, 64, 67, 0.3), 0px 1px 3px 1px rgba(60, 64, 67, 0.15);\n",
              "      fill: #174EA6;\n",
              "    }\n",
              "\n",
              "    .colab-df-buttons div {\n",
              "      margin-bottom: 4px;\n",
              "    }\n",
              "\n",
              "    [theme=dark] .colab-df-convert {\n",
              "      background-color: #3B4455;\n",
              "      fill: #D2E3FC;\n",
              "    }\n",
              "\n",
              "    [theme=dark] .colab-df-convert:hover {\n",
              "      background-color: #434B5C;\n",
              "      box-shadow: 0px 1px 3px 1px rgba(0, 0, 0, 0.15);\n",
              "      filter: drop-shadow(0px 1px 2px rgba(0, 0, 0, 0.3));\n",
              "      fill: #FFFFFF;\n",
              "    }\n",
              "  </style>\n",
              "\n",
              "    <script>\n",
              "      const buttonEl =\n",
              "        document.querySelector('#df-f788e09c-72fb-4796-84c6-5cadedbd835f button.colab-df-convert');\n",
              "      buttonEl.style.display =\n",
              "        google.colab.kernel.accessAllowed ? 'block' : 'none';\n",
              "\n",
              "      async function convertToInteractive(key) {\n",
              "        const element = document.querySelector('#df-f788e09c-72fb-4796-84c6-5cadedbd835f');\n",
              "        const dataTable =\n",
              "          await google.colab.kernel.invokeFunction('convertToInteractive',\n",
              "                                                    [key], {});\n",
              "        if (!dataTable) return;\n",
              "\n",
              "        const docLinkHtml = 'Like what you see? Visit the ' +\n",
              "          '<a target=\"_blank\" href=https://colab.research.google.com/notebooks/data_table.ipynb>data table notebook</a>'\n",
              "          + ' to learn more about interactive tables.';\n",
              "        element.innerHTML = '';\n",
              "        dataTable['output_type'] = 'display_data';\n",
              "        await google.colab.output.renderOutput(dataTable, element);\n",
              "        const docLink = document.createElement('div');\n",
              "        docLink.innerHTML = docLinkHtml;\n",
              "        element.appendChild(docLink);\n",
              "      }\n",
              "    </script>\n",
              "  </div>\n",
              "\n",
              "\n",
              "<div id=\"df-de5037e6-8de0-498a-bc54-330ef3878962\">\n",
              "  <button class=\"colab-df-quickchart\" onclick=\"quickchart('df-de5037e6-8de0-498a-bc54-330ef3878962')\"\n",
              "            title=\"Suggest charts\"\n",
              "            style=\"display:none;\">\n",
              "\n",
              "<svg xmlns=\"http://www.w3.org/2000/svg\" height=\"24px\"viewBox=\"0 0 24 24\"\n",
              "     width=\"24px\">\n",
              "    <g>\n",
              "        <path d=\"M19 3H5c-1.1 0-2 .9-2 2v14c0 1.1.9 2 2 2h14c1.1 0 2-.9 2-2V5c0-1.1-.9-2-2-2zM9 17H7v-7h2v7zm4 0h-2V7h2v10zm4 0h-2v-4h2v4z\"/>\n",
              "    </g>\n",
              "</svg>\n",
              "  </button>\n",
              "\n",
              "<style>\n",
              "  .colab-df-quickchart {\n",
              "      --bg-color: #E8F0FE;\n",
              "      --fill-color: #1967D2;\n",
              "      --hover-bg-color: #E2EBFA;\n",
              "      --hover-fill-color: #174EA6;\n",
              "      --disabled-fill-color: #AAA;\n",
              "      --disabled-bg-color: #DDD;\n",
              "  }\n",
              "\n",
              "  [theme=dark] .colab-df-quickchart {\n",
              "      --bg-color: #3B4455;\n",
              "      --fill-color: #D2E3FC;\n",
              "      --hover-bg-color: #434B5C;\n",
              "      --hover-fill-color: #FFFFFF;\n",
              "      --disabled-bg-color: #3B4455;\n",
              "      --disabled-fill-color: #666;\n",
              "  }\n",
              "\n",
              "  .colab-df-quickchart {\n",
              "    background-color: var(--bg-color);\n",
              "    border: none;\n",
              "    border-radius: 50%;\n",
              "    cursor: pointer;\n",
              "    display: none;\n",
              "    fill: var(--fill-color);\n",
              "    height: 32px;\n",
              "    padding: 0;\n",
              "    width: 32px;\n",
              "  }\n",
              "\n",
              "  .colab-df-quickchart:hover {\n",
              "    background-color: var(--hover-bg-color);\n",
              "    box-shadow: 0 1px 2px rgba(60, 64, 67, 0.3), 0 1px 3px 1px rgba(60, 64, 67, 0.15);\n",
              "    fill: var(--button-hover-fill-color);\n",
              "  }\n",
              "\n",
              "  .colab-df-quickchart-complete:disabled,\n",
              "  .colab-df-quickchart-complete:disabled:hover {\n",
              "    background-color: var(--disabled-bg-color);\n",
              "    fill: var(--disabled-fill-color);\n",
              "    box-shadow: none;\n",
              "  }\n",
              "\n",
              "  .colab-df-spinner {\n",
              "    border: 2px solid var(--fill-color);\n",
              "    border-color: transparent;\n",
              "    border-bottom-color: var(--fill-color);\n",
              "    animation:\n",
              "      spin 1s steps(1) infinite;\n",
              "  }\n",
              "\n",
              "  @keyframes spin {\n",
              "    0% {\n",
              "      border-color: transparent;\n",
              "      border-bottom-color: var(--fill-color);\n",
              "      border-left-color: var(--fill-color);\n",
              "    }\n",
              "    20% {\n",
              "      border-color: transparent;\n",
              "      border-left-color: var(--fill-color);\n",
              "      border-top-color: var(--fill-color);\n",
              "    }\n",
              "    30% {\n",
              "      border-color: transparent;\n",
              "      border-left-color: var(--fill-color);\n",
              "      border-top-color: var(--fill-color);\n",
              "      border-right-color: var(--fill-color);\n",
              "    }\n",
              "    40% {\n",
              "      border-color: transparent;\n",
              "      border-right-color: var(--fill-color);\n",
              "      border-top-color: var(--fill-color);\n",
              "    }\n",
              "    60% {\n",
              "      border-color: transparent;\n",
              "      border-right-color: var(--fill-color);\n",
              "    }\n",
              "    80% {\n",
              "      border-color: transparent;\n",
              "      border-right-color: var(--fill-color);\n",
              "      border-bottom-color: var(--fill-color);\n",
              "    }\n",
              "    90% {\n",
              "      border-color: transparent;\n",
              "      border-bottom-color: var(--fill-color);\n",
              "    }\n",
              "  }\n",
              "</style>\n",
              "\n",
              "  <script>\n",
              "    async function quickchart(key) {\n",
              "      const quickchartButtonEl =\n",
              "        document.querySelector('#' + key + ' button');\n",
              "      quickchartButtonEl.disabled = true;  // To prevent multiple clicks.\n",
              "      quickchartButtonEl.classList.add('colab-df-spinner');\n",
              "      try {\n",
              "        const charts = await google.colab.kernel.invokeFunction(\n",
              "            'suggestCharts', [key], {});\n",
              "      } catch (error) {\n",
              "        console.error('Error during call to suggestCharts:', error);\n",
              "      }\n",
              "      quickchartButtonEl.classList.remove('colab-df-spinner');\n",
              "      quickchartButtonEl.classList.add('colab-df-quickchart-complete');\n",
              "    }\n",
              "    (() => {\n",
              "      let quickchartButtonEl =\n",
              "        document.querySelector('#df-de5037e6-8de0-498a-bc54-330ef3878962 button');\n",
              "      quickchartButtonEl.style.display =\n",
              "        google.colab.kernel.accessAllowed ? 'block' : 'none';\n",
              "    })();\n",
              "  </script>\n",
              "</div>\n",
              "\n",
              "    </div>\n",
              "  </div>\n"
            ]
          },
          "metadata": {},
          "execution_count": 68
        }
      ]
    },
    {
      "cell_type": "code",
      "source": [
        "from nltk.stem import WordNetLemmatizer\n",
        "import nltk\n",
        "nltk.download('wordnet')"
      ],
      "metadata": {
        "colab": {
          "base_uri": "https://localhost:8080/"
        },
        "id": "x2D2LBf3H5d8",
        "outputId": "2f244159-5301-41a1-df5f-21830d516529"
      },
      "execution_count": 69,
      "outputs": [
        {
          "output_type": "stream",
          "name": "stderr",
          "text": [
            "[nltk_data] Downloading package wordnet to /root/nltk_data...\n",
            "[nltk_data]   Package wordnet is already up-to-date!\n"
          ]
        },
        {
          "output_type": "execute_result",
          "data": {
            "text/plain": [
              "True"
            ]
          },
          "metadata": {},
          "execution_count": 69
        }
      ]
    },
    {
      "cell_type": "code",
      "source": [
        "from nltk.stem import PorterStemmer\n"
      ],
      "metadata": {
        "id": "CJmrcB_TJrig"
      },
      "execution_count": 70,
      "outputs": []
    },
    {
      "cell_type": "code",
      "source": [
        "wnl=WordNetLemmatizer()\n",
        "stemmer=PorterStemmer()"
      ],
      "metadata": {
        "id": "EQ-UE_FUIzV6"
      },
      "execution_count": 71,
      "outputs": []
    },
    {
      "cell_type": "code",
      "source": [
        "x=[\"building\",\"build\",\"builds\",\"builts\",\"locatively\",\"located\",\"locative\",\"location\"]"
      ],
      "metadata": {
        "id": "9xEPPpQ4JQYr"
      },
      "execution_count": 95,
      "outputs": []
    },
    {
      "cell_type": "code",
      "source": [
        "for i in x:\n",
        "  print(f\"Lemmetization: {wnl.lemmatize(i,pos='v')}\")\n",
        "\n",
        "  print(f\"Stemming: {stemmer.stem(i)}\")\n",
        "  print()"
      ],
      "metadata": {
        "id": "VFpXOnNnI4lY",
        "colab": {
          "base_uri": "https://localhost:8080/"
        },
        "outputId": "399ecb01-285a-4bbf-9ae4-2a4bf1f236f4"
      },
      "execution_count": 99,
      "outputs": [
        {
          "output_type": "stream",
          "name": "stdout",
          "text": [
            "Lemmetization: build\n",
            "Stemming: build\n",
            "\n",
            "Lemmetization: build\n",
            "Stemming: build\n",
            "\n",
            "Lemmetization: build\n",
            "Stemming: build\n",
            "\n",
            "Lemmetization: builts\n",
            "Stemming: built\n",
            "\n",
            "Lemmetization: locatively\n",
            "Stemming: loc\n",
            "\n",
            "Lemmetization: locate\n",
            "Stemming: locat\n",
            "\n",
            "Lemmetization: locative\n",
            "Stemming: loc\n",
            "\n",
            "Lemmetization: location\n",
            "Stemming: locat\n",
            "\n"
          ]
        }
      ]
    },
    {
      "cell_type": "code",
      "source": [
        "movies.head()"
      ],
      "metadata": {
        "id": "s9C9lCbiow3S",
        "colab": {
          "base_uri": "https://localhost:8080/",
          "height": 414
        },
        "outputId": "7d706a15-b0c1-4557-8fb6-25a93fbdec75"
      },
      "execution_count": 74,
      "outputs": [
        {
          "output_type": "execute_result",
          "data": {
            "text/plain": [
              "   Unnamed: 0  movie_id                                         title  \\\n",
              "0           0     19995                                    ['Avatar']   \n",
              "1           1       285  [\"Pirates of the Caribbean: At World's End\"]   \n",
              "2           2    206647                                   ['Spectre']   \n",
              "3           3     49026                     ['The Dark Knight Rises']   \n",
              "4           4     49529                               ['John Carter']   \n",
              "\n",
              "                                                cast                  crew  \\\n",
              "0  ['SamWorthington', 'ZoeSaldana', 'SigourneyWea...      ['JamesCameron']   \n",
              "1   ['JohnnyDepp', 'OrlandoBloom', 'KeiraKnightley']     ['GoreVerbinski']   \n",
              "2    ['DanielCraig', 'ChristophWaltz', 'LéaSeydoux']         ['SamMendes']   \n",
              "3    ['ChristianBale', 'MichaelCaine', 'GaryOldman']  ['ChristopherNolan']   \n",
              "4  ['TaylorKitsch', 'LynnCollins', 'SamanthaMorton']     ['AndrewStanton']   \n",
              "\n",
              "                                              genres  \\\n",
              "0  ['Action', 'Adventure', 'Fantasy', 'ScienceFic...   \n",
              "1                 ['Adventure', 'Fantasy', 'Action']   \n",
              "2                   ['Action', 'Adventure', 'Crime']   \n",
              "3           ['Action', 'Crime', 'Drama', 'Thriller']   \n",
              "4          ['Action', 'Adventure', 'ScienceFiction']   \n",
              "\n",
              "                                            keywords  \\\n",
              "0  ['cultureclash', 'future', 'spacewar', 'spacec...   \n",
              "1  ['ocean', 'drugabuse', 'exoticisland', 'eastin...   \n",
              "2  ['spy', 'basedonnovel', 'secretagent', 'sequel...   \n",
              "3  ['dccomics', 'crimefighter', 'terrorist', 'sec...   \n",
              "4  ['basedonnovel', 'mars', 'medallion', 'spacetr...   \n",
              "\n",
              "                                                tags  \n",
              "0  ['SamWorthington', 'ZoeSaldana', 'SigourneyWea...  \n",
              "1  ['JohnnyDepp', 'OrlandoBloom', 'KeiraKnightley...  \n",
              "2  ['DanielCraig', 'ChristophWaltz', 'LéaSeydoux'...  \n",
              "3  ['ChristianBale', 'MichaelCaine', 'GaryOldman'...  \n",
              "4  ['TaylorKitsch', 'LynnCollins', 'SamanthaMorto...  "
            ],
            "text/html": [
              "\n",
              "  <div id=\"df-a7a912e4-04bb-40ff-84e6-6a8ac6f0653a\" class=\"colab-df-container\">\n",
              "    <div>\n",
              "<style scoped>\n",
              "    .dataframe tbody tr th:only-of-type {\n",
              "        vertical-align: middle;\n",
              "    }\n",
              "\n",
              "    .dataframe tbody tr th {\n",
              "        vertical-align: top;\n",
              "    }\n",
              "\n",
              "    .dataframe thead th {\n",
              "        text-align: right;\n",
              "    }\n",
              "</style>\n",
              "<table border=\"1\" class=\"dataframe\">\n",
              "  <thead>\n",
              "    <tr style=\"text-align: right;\">\n",
              "      <th></th>\n",
              "      <th>Unnamed: 0</th>\n",
              "      <th>movie_id</th>\n",
              "      <th>title</th>\n",
              "      <th>cast</th>\n",
              "      <th>crew</th>\n",
              "      <th>genres</th>\n",
              "      <th>keywords</th>\n",
              "      <th>tags</th>\n",
              "    </tr>\n",
              "  </thead>\n",
              "  <tbody>\n",
              "    <tr>\n",
              "      <th>0</th>\n",
              "      <td>0</td>\n",
              "      <td>19995</td>\n",
              "      <td>['Avatar']</td>\n",
              "      <td>['SamWorthington', 'ZoeSaldana', 'SigourneyWea...</td>\n",
              "      <td>['JamesCameron']</td>\n",
              "      <td>['Action', 'Adventure', 'Fantasy', 'ScienceFic...</td>\n",
              "      <td>['cultureclash', 'future', 'spacewar', 'spacec...</td>\n",
              "      <td>['SamWorthington', 'ZoeSaldana', 'SigourneyWea...</td>\n",
              "    </tr>\n",
              "    <tr>\n",
              "      <th>1</th>\n",
              "      <td>1</td>\n",
              "      <td>285</td>\n",
              "      <td>[\"Pirates of the Caribbean: At World's End\"]</td>\n",
              "      <td>['JohnnyDepp', 'OrlandoBloom', 'KeiraKnightley']</td>\n",
              "      <td>['GoreVerbinski']</td>\n",
              "      <td>['Adventure', 'Fantasy', 'Action']</td>\n",
              "      <td>['ocean', 'drugabuse', 'exoticisland', 'eastin...</td>\n",
              "      <td>['JohnnyDepp', 'OrlandoBloom', 'KeiraKnightley...</td>\n",
              "    </tr>\n",
              "    <tr>\n",
              "      <th>2</th>\n",
              "      <td>2</td>\n",
              "      <td>206647</td>\n",
              "      <td>['Spectre']</td>\n",
              "      <td>['DanielCraig', 'ChristophWaltz', 'LéaSeydoux']</td>\n",
              "      <td>['SamMendes']</td>\n",
              "      <td>['Action', 'Adventure', 'Crime']</td>\n",
              "      <td>['spy', 'basedonnovel', 'secretagent', 'sequel...</td>\n",
              "      <td>['DanielCraig', 'ChristophWaltz', 'LéaSeydoux'...</td>\n",
              "    </tr>\n",
              "    <tr>\n",
              "      <th>3</th>\n",
              "      <td>3</td>\n",
              "      <td>49026</td>\n",
              "      <td>['The Dark Knight Rises']</td>\n",
              "      <td>['ChristianBale', 'MichaelCaine', 'GaryOldman']</td>\n",
              "      <td>['ChristopherNolan']</td>\n",
              "      <td>['Action', 'Crime', 'Drama', 'Thriller']</td>\n",
              "      <td>['dccomics', 'crimefighter', 'terrorist', 'sec...</td>\n",
              "      <td>['ChristianBale', 'MichaelCaine', 'GaryOldman'...</td>\n",
              "    </tr>\n",
              "    <tr>\n",
              "      <th>4</th>\n",
              "      <td>4</td>\n",
              "      <td>49529</td>\n",
              "      <td>['John Carter']</td>\n",
              "      <td>['TaylorKitsch', 'LynnCollins', 'SamanthaMorton']</td>\n",
              "      <td>['AndrewStanton']</td>\n",
              "      <td>['Action', 'Adventure', 'ScienceFiction']</td>\n",
              "      <td>['basedonnovel', 'mars', 'medallion', 'spacetr...</td>\n",
              "      <td>['TaylorKitsch', 'LynnCollins', 'SamanthaMorto...</td>\n",
              "    </tr>\n",
              "  </tbody>\n",
              "</table>\n",
              "</div>\n",
              "    <div class=\"colab-df-buttons\">\n",
              "\n",
              "  <div class=\"colab-df-container\">\n",
              "    <button class=\"colab-df-convert\" onclick=\"convertToInteractive('df-a7a912e4-04bb-40ff-84e6-6a8ac6f0653a')\"\n",
              "            title=\"Convert this dataframe to an interactive table.\"\n",
              "            style=\"display:none;\">\n",
              "\n",
              "  <svg xmlns=\"http://www.w3.org/2000/svg\" height=\"24px\" viewBox=\"0 -960 960 960\">\n",
              "    <path d=\"M120-120v-720h720v720H120Zm60-500h600v-160H180v160Zm220 220h160v-160H400v160Zm0 220h160v-160H400v160ZM180-400h160v-160H180v160Zm440 0h160v-160H620v160ZM180-180h160v-160H180v160Zm440 0h160v-160H620v160Z\"/>\n",
              "  </svg>\n",
              "    </button>\n",
              "\n",
              "  <style>\n",
              "    .colab-df-container {\n",
              "      display:flex;\n",
              "      gap: 12px;\n",
              "    }\n",
              "\n",
              "    .colab-df-convert {\n",
              "      background-color: #E8F0FE;\n",
              "      border: none;\n",
              "      border-radius: 50%;\n",
              "      cursor: pointer;\n",
              "      display: none;\n",
              "      fill: #1967D2;\n",
              "      height: 32px;\n",
              "      padding: 0 0 0 0;\n",
              "      width: 32px;\n",
              "    }\n",
              "\n",
              "    .colab-df-convert:hover {\n",
              "      background-color: #E2EBFA;\n",
              "      box-shadow: 0px 1px 2px rgba(60, 64, 67, 0.3), 0px 1px 3px 1px rgba(60, 64, 67, 0.15);\n",
              "      fill: #174EA6;\n",
              "    }\n",
              "\n",
              "    .colab-df-buttons div {\n",
              "      margin-bottom: 4px;\n",
              "    }\n",
              "\n",
              "    [theme=dark] .colab-df-convert {\n",
              "      background-color: #3B4455;\n",
              "      fill: #D2E3FC;\n",
              "    }\n",
              "\n",
              "    [theme=dark] .colab-df-convert:hover {\n",
              "      background-color: #434B5C;\n",
              "      box-shadow: 0px 1px 3px 1px rgba(0, 0, 0, 0.15);\n",
              "      filter: drop-shadow(0px 1px 2px rgba(0, 0, 0, 0.3));\n",
              "      fill: #FFFFFF;\n",
              "    }\n",
              "  </style>\n",
              "\n",
              "    <script>\n",
              "      const buttonEl =\n",
              "        document.querySelector('#df-a7a912e4-04bb-40ff-84e6-6a8ac6f0653a button.colab-df-convert');\n",
              "      buttonEl.style.display =\n",
              "        google.colab.kernel.accessAllowed ? 'block' : 'none';\n",
              "\n",
              "      async function convertToInteractive(key) {\n",
              "        const element = document.querySelector('#df-a7a912e4-04bb-40ff-84e6-6a8ac6f0653a');\n",
              "        const dataTable =\n",
              "          await google.colab.kernel.invokeFunction('convertToInteractive',\n",
              "                                                    [key], {});\n",
              "        if (!dataTable) return;\n",
              "\n",
              "        const docLinkHtml = 'Like what you see? Visit the ' +\n",
              "          '<a target=\"_blank\" href=https://colab.research.google.com/notebooks/data_table.ipynb>data table notebook</a>'\n",
              "          + ' to learn more about interactive tables.';\n",
              "        element.innerHTML = '';\n",
              "        dataTable['output_type'] = 'display_data';\n",
              "        await google.colab.output.renderOutput(dataTable, element);\n",
              "        const docLink = document.createElement('div');\n",
              "        docLink.innerHTML = docLinkHtml;\n",
              "        element.appendChild(docLink);\n",
              "      }\n",
              "    </script>\n",
              "  </div>\n",
              "\n",
              "\n",
              "<div id=\"df-b7d01ede-26e2-4b4e-8a9e-8170603943dc\">\n",
              "  <button class=\"colab-df-quickchart\" onclick=\"quickchart('df-b7d01ede-26e2-4b4e-8a9e-8170603943dc')\"\n",
              "            title=\"Suggest charts\"\n",
              "            style=\"display:none;\">\n",
              "\n",
              "<svg xmlns=\"http://www.w3.org/2000/svg\" height=\"24px\"viewBox=\"0 0 24 24\"\n",
              "     width=\"24px\">\n",
              "    <g>\n",
              "        <path d=\"M19 3H5c-1.1 0-2 .9-2 2v14c0 1.1.9 2 2 2h14c1.1 0 2-.9 2-2V5c0-1.1-.9-2-2-2zM9 17H7v-7h2v7zm4 0h-2V7h2v10zm4 0h-2v-4h2v4z\"/>\n",
              "    </g>\n",
              "</svg>\n",
              "  </button>\n",
              "\n",
              "<style>\n",
              "  .colab-df-quickchart {\n",
              "      --bg-color: #E8F0FE;\n",
              "      --fill-color: #1967D2;\n",
              "      --hover-bg-color: #E2EBFA;\n",
              "      --hover-fill-color: #174EA6;\n",
              "      --disabled-fill-color: #AAA;\n",
              "      --disabled-bg-color: #DDD;\n",
              "  }\n",
              "\n",
              "  [theme=dark] .colab-df-quickchart {\n",
              "      --bg-color: #3B4455;\n",
              "      --fill-color: #D2E3FC;\n",
              "      --hover-bg-color: #434B5C;\n",
              "      --hover-fill-color: #FFFFFF;\n",
              "      --disabled-bg-color: #3B4455;\n",
              "      --disabled-fill-color: #666;\n",
              "  }\n",
              "\n",
              "  .colab-df-quickchart {\n",
              "    background-color: var(--bg-color);\n",
              "    border: none;\n",
              "    border-radius: 50%;\n",
              "    cursor: pointer;\n",
              "    display: none;\n",
              "    fill: var(--fill-color);\n",
              "    height: 32px;\n",
              "    padding: 0;\n",
              "    width: 32px;\n",
              "  }\n",
              "\n",
              "  .colab-df-quickchart:hover {\n",
              "    background-color: var(--hover-bg-color);\n",
              "    box-shadow: 0 1px 2px rgba(60, 64, 67, 0.3), 0 1px 3px 1px rgba(60, 64, 67, 0.15);\n",
              "    fill: var(--button-hover-fill-color);\n",
              "  }\n",
              "\n",
              "  .colab-df-quickchart-complete:disabled,\n",
              "  .colab-df-quickchart-complete:disabled:hover {\n",
              "    background-color: var(--disabled-bg-color);\n",
              "    fill: var(--disabled-fill-color);\n",
              "    box-shadow: none;\n",
              "  }\n",
              "\n",
              "  .colab-df-spinner {\n",
              "    border: 2px solid var(--fill-color);\n",
              "    border-color: transparent;\n",
              "    border-bottom-color: var(--fill-color);\n",
              "    animation:\n",
              "      spin 1s steps(1) infinite;\n",
              "  }\n",
              "\n",
              "  @keyframes spin {\n",
              "    0% {\n",
              "      border-color: transparent;\n",
              "      border-bottom-color: var(--fill-color);\n",
              "      border-left-color: var(--fill-color);\n",
              "    }\n",
              "    20% {\n",
              "      border-color: transparent;\n",
              "      border-left-color: var(--fill-color);\n",
              "      border-top-color: var(--fill-color);\n",
              "    }\n",
              "    30% {\n",
              "      border-color: transparent;\n",
              "      border-left-color: var(--fill-color);\n",
              "      border-top-color: var(--fill-color);\n",
              "      border-right-color: var(--fill-color);\n",
              "    }\n",
              "    40% {\n",
              "      border-color: transparent;\n",
              "      border-right-color: var(--fill-color);\n",
              "      border-top-color: var(--fill-color);\n",
              "    }\n",
              "    60% {\n",
              "      border-color: transparent;\n",
              "      border-right-color: var(--fill-color);\n",
              "    }\n",
              "    80% {\n",
              "      border-color: transparent;\n",
              "      border-right-color: var(--fill-color);\n",
              "      border-bottom-color: var(--fill-color);\n",
              "    }\n",
              "    90% {\n",
              "      border-color: transparent;\n",
              "      border-bottom-color: var(--fill-color);\n",
              "    }\n",
              "  }\n",
              "</style>\n",
              "\n",
              "  <script>\n",
              "    async function quickchart(key) {\n",
              "      const quickchartButtonEl =\n",
              "        document.querySelector('#' + key + ' button');\n",
              "      quickchartButtonEl.disabled = true;  // To prevent multiple clicks.\n",
              "      quickchartButtonEl.classList.add('colab-df-spinner');\n",
              "      try {\n",
              "        const charts = await google.colab.kernel.invokeFunction(\n",
              "            'suggestCharts', [key], {});\n",
              "      } catch (error) {\n",
              "        console.error('Error during call to suggestCharts:', error);\n",
              "      }\n",
              "      quickchartButtonEl.classList.remove('colab-df-spinner');\n",
              "      quickchartButtonEl.classList.add('colab-df-quickchart-complete');\n",
              "    }\n",
              "    (() => {\n",
              "      let quickchartButtonEl =\n",
              "        document.querySelector('#df-b7d01ede-26e2-4b4e-8a9e-8170603943dc button');\n",
              "      quickchartButtonEl.style.display =\n",
              "        google.colab.kernel.accessAllowed ? 'block' : 'none';\n",
              "    })();\n",
              "  </script>\n",
              "</div>\n",
              "\n",
              "    </div>\n",
              "  </div>\n"
            ]
          },
          "metadata": {},
          "execution_count": 74
        }
      ]
    },
    {
      "cell_type": "code",
      "source": [
        "''.join(['Avatar'])"
      ],
      "metadata": {
        "colab": {
          "base_uri": "https://localhost:8080/",
          "height": 36
        },
        "id": "sqwIuuku0Zuy",
        "outputId": "fd82e62b-de69-41b6-879f-da9ba26b974b"
      },
      "execution_count": 75,
      "outputs": [
        {
          "output_type": "execute_result",
          "data": {
            "text/plain": [
              "'Avatar'"
            ],
            "application/vnd.google.colaboratory.intrinsic+json": {
              "type": "string"
            }
          },
          "metadata": {},
          "execution_count": 75
        }
      ]
    },
    {
      "cell_type": "code",
      "source": [
        "import ast\n",
        "movies['title']=movies['title'].apply(ast.literal_eval)\n"
      ],
      "metadata": {
        "id": "7G6SrM9czv_9"
      },
      "execution_count": 76,
      "outputs": []
    },
    {
      "cell_type": "code",
      "source": [
        "import ast\n",
        "movies['title']=movies['title'].apply(''.join)\n",
        "\n"
      ],
      "metadata": {
        "id": "ONWaPxkY1crX"
      },
      "execution_count": 77,
      "outputs": []
    },
    {
      "cell_type": "code",
      "source": [
        "def stemmerr(sentence):\n",
        "  y=[]\n",
        "  for i in sentence.split():\n",
        "    y.append(stemmer.stem(i))\n",
        "  return ' '.join(y)"
      ],
      "metadata": {
        "id": "uWaGn_1QoDia"
      },
      "execution_count": 78,
      "outputs": []
    },
    {
      "cell_type": "code",
      "source": [
        "movies['tags']=movies['tags'].apply(stemmerr)"
      ],
      "metadata": {
        "id": "4QJYIYO_oThz"
      },
      "execution_count": 79,
      "outputs": []
    },
    {
      "cell_type": "code",
      "source": [
        "movies['tags']=movies['tags'].apply(ast.literal_eval)\n",
        "movies['tags']=movies['tags'].apply(\" \".join)\n"
      ],
      "metadata": {
        "id": "sGpteI-JSp_8"
      },
      "execution_count": 80,
      "outputs": []
    },
    {
      "cell_type": "code",
      "source": [
        "from sklearn.feature_extraction.text import CountVectorizer\n",
        "\n",
        "cv=CountVectorizer(max_features=5000,stop_words='english')"
      ],
      "metadata": {
        "id": "-5gC5MWeHnqJ"
      },
      "execution_count": 81,
      "outputs": []
    },
    {
      "cell_type": "code",
      "source": [
        "vectors=cv.fit_transform(movies['tags'])"
      ],
      "metadata": {
        "id": "p8_9TkWKpA3C"
      },
      "execution_count": 82,
      "outputs": []
    },
    {
      "cell_type": "code",
      "source": [
        "len(movies['tags'][0].split())"
      ],
      "metadata": {
        "colab": {
          "base_uri": "https://localhost:8080/"
        },
        "id": "jhwAbZZSxjxm",
        "outputId": "9b44a1a4-d86e-472e-bfff-971a6f72e44c"
      },
      "execution_count": 83,
      "outputs": [
        {
          "output_type": "execute_result",
          "data": {
            "text/plain": [
              "29"
            ]
          },
          "metadata": {},
          "execution_count": 83
        }
      ]
    },
    {
      "cell_type": "code",
      "source": [
        "vectors[0].todense()"
      ],
      "metadata": {
        "colab": {
          "base_uri": "https://localhost:8080/"
        },
        "id": "1RvahD62w0hQ",
        "outputId": "6b9502a6-678a-414c-e0b1-cc0d3c01868d"
      },
      "execution_count": 84,
      "outputs": [
        {
          "output_type": "execute_result",
          "data": {
            "text/plain": [
              "matrix([[0, 0, 0, ..., 0, 0, 0]])"
            ]
          },
          "metadata": {},
          "execution_count": 84
        }
      ]
    },
    {
      "cell_type": "code",
      "source": [
        "vectors.shape"
      ],
      "metadata": {
        "colab": {
          "base_uri": "https://localhost:8080/"
        },
        "id": "vxl3paMoQbq5",
        "outputId": "825fd4d1-b9fd-49df-d09d-be54bd379746"
      },
      "execution_count": 85,
      "outputs": [
        {
          "output_type": "execute_result",
          "data": {
            "text/plain": [
              "(4809, 5000)"
            ]
          },
          "metadata": {},
          "execution_count": 85
        }
      ]
    },
    {
      "cell_type": "code",
      "source": [
        "from sklearn.metrics.pairwise import cosine_similarity\n"
      ],
      "metadata": {
        "id": "5_g741zlpJsR"
      },
      "execution_count": 86,
      "outputs": []
    },
    {
      "cell_type": "code",
      "source": [
        "similarity=cosine_similarity(vectors)\n"
      ],
      "metadata": {
        "id": "616KBvYnpS3j"
      },
      "execution_count": 87,
      "outputs": []
    },
    {
      "cell_type": "code",
      "source": [
        "# list(enumerate(similarity[0]))"
      ],
      "metadata": {
        "id": "J47-0pVc3whn"
      },
      "execution_count": null,
      "outputs": []
    },
    {
      "cell_type": "code",
      "source": [
        "\n",
        "from operator import itemgetter\n"
      ],
      "metadata": {
        "id": "6s-H9g3y34k-"
      },
      "execution_count": 89,
      "outputs": []
    },
    {
      "cell_type": "code",
      "source": [
        "def recommend(movie):\n",
        "  index=movies[movies['title']==movie].index[0]\n",
        "  distances=similarity[index]\n",
        "  movieslist=sorted(list(enumerate(distances)),reverse=True,key=itemgetter(1))[1:6]\n",
        "  for i in movieslist:\n",
        "    print(movies.iloc[i[0]].title)\n",
        "recommend('Batman')"
      ],
      "metadata": {
        "colab": {
          "base_uri": "https://localhost:8080/"
        },
        "id": "GK-3lJJcvvxp",
        "outputId": "dfcf6e09-8846-4ee6-e3c7-dc6507afb1f4"
      },
      "execution_count": 90,
      "outputs": [
        {
          "output_type": "stream",
          "name": "stdout",
          "text": [
            "Batman\n",
            "Batman & Robin\n",
            "Batman Returns\n",
            "Batman\n",
            "Batman v Superman: Dawn of Justice\n"
          ]
        }
      ]
    },
    {
      "cell_type": "code",
      "source": [
        "from nltk.tokenize import word_tokenize,sent_tokenize"
      ],
      "metadata": {
        "id": "nVE7OZZfuT2d"
      },
      "execution_count": 103,
      "outputs": []
    },
    {
      "cell_type": "code",
      "source": [
        "import nltk\n",
        "nltk.download('punkt')\n",
        ""
      ],
      "metadata": {
        "colab": {
          "base_uri": "https://localhost:8080/"
        },
        "id": "yUdpnSK72VAp",
        "outputId": "19c42d21-64a7-4ea6-e3e1-9ee540724738"
      },
      "execution_count": 101,
      "outputs": [
        {
          "output_type": "stream",
          "name": "stderr",
          "text": [
            "[nltk_data] Downloading package punkt to /root/nltk_data...\n",
            "[nltk_data]   Unzipping tokenizers/punkt.zip.\n"
          ]
        },
        {
          "output_type": "execute_result",
          "data": {
            "text/plain": [
              "True"
            ]
          },
          "metadata": {},
          "execution_count": 101
        }
      ]
    },
    {
      "cell_type": "code",
      "source": [
        "sent_tokenize('''Deep learning is the subset of machine learning methods based on artificial neural networks with representation learning. The adjective \"deep\" refers to the use of multiple layers in the network. Methods used can be either supervised, semi-supervised or unsupervised.[2]\n",
        "\n",
        "Deep-learning architectures such as deep neural networks, deep belief networks, recurrent neural networks, convolutional neural networks and transformers have been applied to fields including computer vision, speech recognition, natural language processing, machine translation, bioinformatics, drug design, medical image analysis, climate science, material inspection and board game programs, where they have produced results comparable to and in some cases surpassing human expert performance.[3][4][5]\n",
        "\n",
        "Artificial neural networks (ANNs) were inspired by information processing and distributed communication nodes in biological systems. ANNs have various differences from biological brains. Specifically, artificial neural networks tend to be static and symbolic, while the biological brain of most living organisms is dynamic (plastic) and analog.[6][7] ANNs are generally seen as low quality models for brain function.[8]''')"
      ],
      "metadata": {
        "id": "Wm64nK6i2Gbx"
      },
      "execution_count": null,
      "outputs": []
    },
    {
      "cell_type": "code",
      "source": [],
      "metadata": {
        "id": "RSEcfIB_3BSA"
      },
      "execution_count": null,
      "outputs": []
    }
  ]
}